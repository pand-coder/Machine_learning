{
 "cells": [
  {
   "cell_type": "code",
   "execution_count": 3,
   "metadata": {},
   "outputs": [
    {
     "name": "stdout",
     "output_type": "stream",
     "text": [
      "Total number of lines: 1910\n"
     ]
    }
   ],
   "source": [
    "fhand = open('mbox-short.txt')\n",
    "inp = fhand.read()\n",
    "fhand.close()\n",
    "def number_of_lines():\n",
    "    with open(r\"mbox-short.txt\", 'r') as fp:\n",
    "        lines = len(fp.readlines())\n",
    "        print('Total number of lines:', lines)\n",
    "\n",
    "# Call the function\n",
    "number_of_lines()\n",
    "\n"
   ]
  },
  {
   "cell_type": "code",
   "execution_count": 5,
   "metadata": {},
   "outputs": [
    {
     "name": "stdout",
     "output_type": "stream",
     "text": [
      "From: stephen.marquard@uct.ac.za\n",
      "From: louis@media.berkeley.edu\n",
      "From: zqian@umich.edu\n",
      "From: rjlowe@iupui.edu\n",
      "From: zqian@umich.edu\n",
      "From: rjlowe@iupui.edu\n",
      "From: cwen@iupui.edu\n",
      "From: cwen@iupui.edu\n",
      "From: gsilver@umich.edu\n",
      "From: gsilver@umich.edu\n",
      "From: zqian@umich.edu\n",
      "From: gsilver@umich.edu\n",
      "From: wagnermr@iupui.edu\n",
      "From: zqian@umich.edu\n",
      "From: antranig@caret.cam.ac.uk\n",
      "From: gopal.ramasammycook@gmail.com\n",
      "From: david.horwitz@uct.ac.za\n",
      "From: david.horwitz@uct.ac.za\n",
      "From: david.horwitz@uct.ac.za\n",
      "From: david.horwitz@uct.ac.za\n",
      "From: stephen.marquard@uct.ac.za\n",
      "From: louis@media.berkeley.edu\n",
      "From: louis@media.berkeley.edu\n",
      "From: ray@media.berkeley.edu\n",
      "From: cwen@iupui.edu\n",
      "From: cwen@iupui.edu\n",
      "From: cwen@iupui.edu\n"
     ]
    }
   ],
   "source": [
    "fhand = open('mbox-short.txt')\n",
    "count = 0\n",
    "for line in fhand:\n",
    "    line = line.rstrip()  # Remove new line characters from the right\n",
    "    if line.startswith('From:'):\n",
    "        print(line)\n"
   ]
  },
  {
   "cell_type": "code",
   "execution_count": 9,
   "metadata": {},
   "outputs": [
    {
     "name": "stdout",
     "output_type": "stream",
     "text": [
      "27\n"
     ]
    }
   ],
   "source": [
    "def count_number_of_lines():\n",
    "    with open(r\"mbox-short.txt\", 'r') as fhand:\n",
    "        count = 0\n",
    "        for line in fhand:\n",
    "            line = line.rstrip()  # Remove new line characters from the right\n",
    "            if line.startswith('Subject:'):\n",
    "                count += 1\n",
    "    return count\n",
    "\n",
    "res = count_number_of_lines()\n",
    "print(res)\n"
   ]
  },
  {
   "cell_type": "code",
   "execution_count": 14,
   "metadata": {},
   "outputs": [
    {
     "name": "stdout",
     "output_type": "stream",
     "text": [
      "0.7507185185185187\n"
     ]
    }
   ],
   "source": [
    "def average_spam_confidence():\n",
    "    fo=open('mbox-short.txt','r')\n",
    "    count=0\n",
    "    total_confidence=0\n",
    "    for line in fo:\n",
    "        line=line.rstrip()\n",
    "        if line.startswith('X-DSPAM-Confidence:'):\n",
    "            confidence=float(line.split(':')[1].strip())\n",
    "            total_confidence+=confidence\n",
    "            count+=1\n",
    "    if count>0:\n",
    "        avg_confidence =    total_confidence/count\n",
    "        return avg_confidence\n",
    "    else:\n",
    "        return 0\n",
    "\n",
    "avg=average_spam_confidence()\n",
    "print(avg)\n",
    "\n",
    "\n",
    "\n"
   ]
  },
  {
   "cell_type": "code",
   "execution_count": 13,
   "metadata": {},
   "outputs": [
    {
     "name": "stdout",
     "output_type": "stream",
     "text": [
      "{'Sat': 1, 'Fri': 20, 'Thu': 6}\n"
     ]
    }
   ],
   "source": [
    "def find_email_sent_days():\n",
    "    days_count = {}\n",
    "\n",
    "    with open('mbox-short.txt', 'r') as fo:\n",
    "        for line in fo:\n",
    "            line = line.rstrip()\n",
    "            if line.startswith('From'):\n",
    "                words = line.split()\n",
    "                if len(words) >= 4:\n",
    "                    day_of_week = words[2]\n",
    "                    # Assuming day_of_week contains the abbreviated day (e.g., Mon, Tue, etc.)\n",
    "                    if day_of_week in days_count:\n",
    "                        days_count[day_of_week] += 1\n",
    "                    else:\n",
    "                        days_count[day_of_week] = 1\n",
    "\n",
    "    return days_count\n",
    "\n",
    "# Example usage:\n",
    "result = find_email_sent_days()\n",
    "print(result)\n"
   ]
  },
  {
   "cell_type": "code",
   "execution_count": 2,
   "metadata": {},
   "outputs": [
    {
     "name": "stdout",
     "output_type": "stream",
     "text": [
      "{'stephen.marquard@uct.ac.za': 2, 'louis@media.berkeley.edu': 3, 'zqian@umich.edu': 4, 'rjlowe@iupui.edu': 2, 'cwen@iupui.edu': 5, 'gsilver@umich.edu': 3, 'wagnermr@iupui.edu': 1, 'antranig@caret.cam.ac.uk': 1, 'gopal.ramasammycook@gmail.com': 1, 'david.horwitz@uct.ac.za': 4, 'ray@media.berkeley.edu': 1}\n"
     ]
    }
   ],
   "source": [
    "def count_message_from_email(filepath):\n",
    "    email_dic={}\n",
    "\n",
    "    try:\n",
    "        with open('mbox-short.txt','r') as fo:\n",
    "            for line in fo:\n",
    "                if line.startswith('From '):\n",
    "                    email=line.split()[1]\n",
    "                    email_dic[email]=email_dic.get(email,0)+1\n",
    "    \n",
    "    except FileNotFoundError:\n",
    "        print(\"File Not Found\")\n",
    "\n",
    "    return email_dic\n",
    "\n",
    "res=count_message_from_email('mbox-short.txt')\n",
    "print(res)\n",
    "\n",
    "\n",
    "\n",
    "        \n",
    "\n"
   ]
  },
  {
   "cell_type": "code",
   "execution_count": 6,
   "metadata": {},
   "outputs": [
    {
     "name": "stdout",
     "output_type": "stream",
     "text": [
      "{'uct.ac.za': 6, 'media.berkeley.edu': 4, 'umich.edu': 7, 'iupui.edu': 8, 'caret.cam.ac.uk': 1, 'gmail.com': 1}\n"
     ]
    }
   ],
   "source": [
    "def count_message_from_domain(filepath):\n",
    "    dic_count = {}\n",
    "\n",
    "    try:\n",
    "        with open(filepath, 'r') as fo:\n",
    "            for line in fo:\n",
    "                if line.startswith('From '):\n",
    "                    email = line.split()[1]\n",
    "                    domain = email.split('@')[1]\n",
    "                    dic_count[domain] = dic_count.get(domain, 0) + 1\n",
    "\n",
    "    except FileNotFoundError:\n",
    "        print('File not found')\n",
    "\n",
    "    return dic_count\n",
    "\n",
    "res = count_message_from_domain('mbox-short.txt')\n",
    "print(res)\n",
    "\n"
   ]
  }
 ],
 "metadata": {
  "kernelspec": {
   "display_name": "base",
   "language": "python",
   "name": "python3"
  },
  "language_info": {
   "codemirror_mode": {
    "name": "ipython",
    "version": 3
   },
   "file_extension": ".py",
   "mimetype": "text/x-python",
   "name": "python",
   "nbconvert_exporter": "python",
   "pygments_lexer": "ipython3",
   "version": "3.11.5"
  }
 },
 "nbformat": 4,
 "nbformat_minor": 2
}
